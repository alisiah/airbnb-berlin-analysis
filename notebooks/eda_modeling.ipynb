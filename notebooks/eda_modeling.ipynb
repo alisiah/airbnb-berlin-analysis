{
 "cells": [
  {
   "cell_type": "markdown",
   "id": "bfaf89b8",
   "metadata": {},
   "source": [
    "# Airbnb Berlin – Preisanalyse\n",
    "Dieses Notebook analysiert die Airbnb-Angebote in Berlin und erstellt ein Vorhersagemodell für die Preise.\n",
    "Exploratory Data Analysis (eda):"
   ]
  },
  {
   "cell_type": "code",
   "execution_count": null,
   "id": "f26fed11",
   "metadata": {},
   "outputs": [],
   "source": [
    "# (Eventually) Set Jupyter (YOUR) workstation:\n",
    "import os\n",
    "os.chdir(\"Path/to/your/project directory\")\n",
    "\n",
    "# Check workplace:\n",
    "print(\"Arbeitsverzeichnis gesetzt auf:\", os.getcwd())   # Or: pwd"
   ]
  },
  {
   "cell_type": "code",
   "execution_count": null,
   "id": "388ed99d",
   "metadata": {},
   "outputs": [],
   "source": [
    "# Import packages:\n",
    "import pandas as pd\n",
    "import matplotlib.pyplot as plt\n",
    "import seaborn as sns\n",
    "\n",
    "from src.data_cleaning import clean_airbnb_data\n",
    "from src.modeling import train_models"
   ]
  },
  {
   "cell_type": "code",
   "execution_count": null,
   "id": "0834d773",
   "metadata": {},
   "outputs": [],
   "source": [
    "# Load data:\n",
    "df = pd.read_csv('data/listings.csv')\n",
    "\n",
    "# Number of rows and columns:\n",
    "print(df.shape)\n",
    "\n",
    "df.head()"
   ]
  },
  {
   "cell_type": "code",
   "execution_count": null,
   "id": "b7a9f338",
   "metadata": {},
   "outputs": [],
   "source": [
    "# Clean up data:\n",
    "df_clean = clean_airbnb_data(df)\n",
    "\n",
    "print(df_clean.shape)\n",
    "df_clean.head()"
   ]
  },
  {
   "cell_type": "code",
   "execution_count": null,
   "id": "d13a6c6c",
   "metadata": {},
   "outputs": [],
   "source": [
    "# First visualizations:\n",
    "plt.figure(figsize=(10, 4))\n",
    "sns.histplot(df_clean['price'], bins=50, kde=True)\n",
    "    # bins: Divide the range of data into 50 equal intervals\n",
    "    # kde: Shows a smooth curve\n",
    "plt.title('Verteilung der Preise')\n",
    "plt.show()"
   ]
  },
  {
   "cell_type": "code",
   "execution_count": null,
   "id": "915442d5",
   "metadata": {},
   "outputs": [],
   "source": [
    "# Feature Engineering:\n",
    "features = ['room_type', 'minimum_nights', 'number_of_reviews', 'reviews_per_month']\n",
    "df_model = df_clean[features + ['price']].dropna()\n",
    "\n",
    "# One-hot Encoding (converts the categorical variable \"room_type\" into numeric columns):\n",
    "df_model = pd.get_dummies(df_model, columns=['room_type'], drop_first=True)\n",
    "    # drop_first: The first category is omitted to avoid redundancy\n",
    "\n",
    "X = df_model.drop('price', axis=1)\n",
    "y = df_model['price']\n",
    "\n",
    "# print(df_model)\n",
    "df_model.head()\n"
   ]
  },
  {
   "cell_type": "code",
   "execution_count": null,
   "id": "ba6be586",
   "metadata": {},
   "outputs": [],
   "source": [
    "# Train models (\"LinearRegression\", \"RandomForest\", \"GradientBoosting\" and \"XGBoost\"):\n",
    "results = train_models(X, y)\n",
    "for name, result in results.items():\n",
    "    print(f\"\\n{name}:\")\n",
    "    for coef, value in result.items():\n",
    "        if not isinstance(value, (int, float)):\n",
    "            print(f\"  {coef}: {value}\")\n",
    "        else:\n",
    "            print(f\"  {coef}: {value:.2f}\")"
   ]
  },
  {
   "cell_type": "code",
   "execution_count": null,
   "id": "441bd0b9",
   "metadata": {},
   "outputs": [],
   "source": []
  }
 ],
 "metadata": {
  "kernelspec": {
   "display_name": "Python 3 (ipykernel)",
   "language": "python",
   "name": "python3"
  },
  "language_info": {
   "codemirror_mode": {
    "name": "ipython",
    "version": 3
   },
   "file_extension": ".py",
   "mimetype": "text/x-python",
   "name": "python",
   "nbconvert_exporter": "python",
   "pygments_lexer": "ipython3",
   "version": "3.11.5"
  }
 },
 "nbformat": 4,
 "nbformat_minor": 5
}
